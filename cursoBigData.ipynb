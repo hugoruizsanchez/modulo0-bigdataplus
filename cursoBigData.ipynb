{
 "cells": [
  {
   "cell_type": "markdown",
   "id": "dda7b335-f896-4e4a-9247-154d04b10e9f",
   "metadata": {},
   "source": [
    "# Formación Dual BigData+: Módulo 0\n",
    "- **Alumno:** Hugo Ruiz Sánchez.\n",
    "- **Correo electrónico:** hugoruizschz@gmail.com"
   ]
  },
  {
   "cell_type": "markdown",
   "id": "0a255587-48f4-4f55-9375-084787d86cea",
   "metadata": {},
   "source": [
    "## Introducción al mundo de Big Data. "
   ]
  },
  {
   "cell_type": "markdown",
   "id": "87663ab5-20a9-4626-87bb-1944268304ab",
   "metadata": {},
   "source": [
    "### Tarea: Big Data y digitalización en Siemens Mobility\n"
   ]
  },
  {
   "cell_type": "markdown",
   "id": "f0d44c8e-089c-444b-a9aa-b737a4da166d",
   "metadata": {},
   "source": [
    "**¿Cuál es la reducción de costes de mantenimiento que se puede alcanzar con Siemens Digital Depot?**\n",
    "El mantenimiento predictivo (*predictive maintenance*) permite reducir los tiempos de inactividad de los trenes identificando los problemas antes de que se produzcan, lo que permite realizar las reparaciones fuera del horario de servicio y evitar que los trenes se queden parados.\n",
    "\n",
    "Ello facilita planificar con mayor precisión las necesidades de piezas de repuesto, lo que reduce el riesgo de tener que realizar pedidos urgentes y costosos.\n",
    "\n",
    "En concreto, el Siemens Digital Depot utiliza las siguientes tecnologías para alcanzar estas ventajas:\n",
    "\n",
    "- **Sensorización**: Los trenes están equipados con sensores que recopilan datos sobre su estado en tiempo real. Estos datos se envían a la nube, donde son analizados por algoritmos de aprendizaje automático.\n",
    "- **Análisis de datos**: Los algoritmos de aprendizaje automático analizan los datos para identificar patrones y tendencias que pueden indicar la presencia de un problema.\n",
    "- **Planeamiento de mantenimiento**: El sistema de planificación de mantenimiento utiliza los datos analizados para generar un plan de mantenimiento personalizado para cada tren.\n",
    "\n",
    "El Siemens Digital Depot ya está siendo utilizado por operadores ferroviarios de todo el mundo, con resultados muy positivos. Por ejemplo, el operador ferroviario alemán Deutsche Bahn ha logrado reducir los costes de mantenimiento de sus trenes en un 25% gracias al uso del Siemens Digital Depot.\n",
    "\n"
   ]
  },
  {
   "cell_type": "markdown",
   "id": "c762d8e2-9447-4800-8f3b-a7b4c9d38544",
   "metadata": {},
   "source": [
    "#### Fuentes empleadas"
   ]
  },
  {
   "cell_type": "markdown",
   "id": "fe48d79b-fb54-4574-b9bd-069dac84cc30",
   "metadata": {},
   "source": [
    "- Vídeo de Siemens Mobility: https://youtu.be/E7-3ljkN1AU?si=3DtRegv0sEHg_jel"
   ]
  },
  {
   "cell_type": "markdown",
   "id": "0763cd53-164e-4eab-af59-de16a0c9aa74",
   "metadata": {},
   "source": [
    "## Opcional: Presentación y preparación de los datos para el análisis\n",
    "\n",
    "Aunque no era necesario, he decidido **seguir la exposición del profesor y verificar todos los cambios que ha hecho a lo largo de la clase**."
   ]
  },
  {
   "cell_type": "markdown",
   "id": "9fe4962d-7b63-4f78-a160-839fc6ccfbe4",
   "metadata": {},
   "source": [
    " ### Importar las librerías necesarias"
   ]
  },
  {
   "cell_type": "code",
   "execution_count": 1,
   "id": "8ad684bf-6ee1-4f86-ac10-55c8a3ae28d3",
   "metadata": {},
   "outputs": [],
   "source": [
    "import pandas as pd # Importar librería de pandas, para la gestión de los datos, asociándola como \"pd\", a través del cual llamaremos a sus métodos.\n",
    "import matplotlib.pyplot as plt\n",
    "import seaborn as sns\n",
    "\n",
    "pth = \"dataset_reto.csv\" # Establecer la localización del archivo csv (\"path\") donde se ubica la base de datos (\"dataset\").\n",
    "df = pd.read_csv(pth) # Ordenar a la librería la lectura del archivo presentado en el path, asociandolo al objeto df (\"DataFrame\") "
   ]
  },
  {
   "cell_type": "markdown",
   "id": "083f05c8-34aa-4b50-af4e-a061fdd480ce",
   "metadata": {},
   "source": [
    "### Volumen de los datos: filas y columnas."
   ]
  },
  {
   "cell_type": "code",
   "execution_count": 2,
   "id": "2fbcdb71-6901-4696-ab16-587a5e6a9b91",
   "metadata": {},
   "outputs": [
    {
     "data": {
      "text/plain": [
       "(5423, 7)"
      ]
     },
     "execution_count": 2,
     "metadata": {},
     "output_type": "execute_result"
    }
   ],
   "source": [
    "df.shape # Arroja las filas y columnas de la tabla en forma de tupla."
   ]
  },
  {
   "cell_type": "markdown",
   "id": "192c7683-085a-463a-b337-e851307cc513",
   "metadata": {},
   "source": [
    "Nótese cómo estos resultados ( *5423 registros en total* ) ya han sido previamente modificados por el profesor, para **eliminar el problema de los duplicados**."
   ]
  },
  {
   "cell_type": "markdown",
   "id": "53686a28-2258-4872-93f2-6ce2945a1223",
   "metadata": {},
   "source": [
    "### Explicación de cada dato."
   ]
  },
  {
   "cell_type": "code",
   "execution_count": 3,
   "id": "1f43f21b-a7ff-4f1b-8fbe-7480e1be944f",
   "metadata": {},
   "outputs": [
    {
     "data": {
      "text/html": [
       "<div>\n",
       "<style scoped>\n",
       "    .dataframe tbody tr th:only-of-type {\n",
       "        vertical-align: middle;\n",
       "    }\n",
       "\n",
       "    .dataframe tbody tr th {\n",
       "        vertical-align: top;\n",
       "    }\n",
       "\n",
       "    .dataframe thead th {\n",
       "        text-align: right;\n",
       "    }\n",
       "</style>\n",
       "<table border=\"1\" class=\"dataframe\">\n",
       "  <thead>\n",
       "    <tr style=\"text-align: right;\">\n",
       "      <th></th>\n",
       "      <th>Jobtitle</th>\n",
       "      <th>City</th>\n",
       "      <th>Date</th>\n",
       "      <th>Skills</th>\n",
       "      <th>Salary</th>\n",
       "      <th>Candidates</th>\n",
       "      <th>Copy</th>\n",
       "    </tr>\n",
       "  </thead>\n",
       "  <tbody>\n",
       "    <tr>\n",
       "      <th>0</th>\n",
       "      <td>desarrollador/a php-moodl</td>\n",
       "      <td>Madrid</td>\n",
       "      <td>2022-09-30</td>\n",
       "      <td>['php', 'lms', 'moodle', 'mysql']</td>\n",
       "      <td>31500.0</td>\n",
       "      <td>7</td>\n",
       "      <td>2022-10-02</td>\n",
       "    </tr>\n",
       "    <tr>\n",
       "      <th>1</th>\n",
       "      <td>analista programador spark/scala</td>\n",
       "      <td>Madrid</td>\n",
       "      <td>2022-09-30</td>\n",
       "      <td>['scala', 'spark']</td>\n",
       "      <td>31500.0</td>\n",
       "      <td>0</td>\n",
       "      <td>2022-10-02</td>\n",
       "    </tr>\n",
       "    <tr>\n",
       "      <th>2</th>\n",
       "      <td>desarrollador de android</td>\n",
       "      <td>Madrid</td>\n",
       "      <td>2022-10-02</td>\n",
       "      <td>['android']</td>\n",
       "      <td>no disponible</td>\n",
       "      <td>2</td>\n",
       "      <td>2022-10-02</td>\n",
       "    </tr>\n",
       "    <tr>\n",
       "      <th>3</th>\n",
       "      <td>administrador/a microsoft azure - remoto</td>\n",
       "      <td>Online</td>\n",
       "      <td>2022-10-02</td>\n",
       "      <td>['hyper v', 'azure', 'itil', 'mcafee', 'o365']</td>\n",
       "      <td>31500.0</td>\n",
       "      <td>22</td>\n",
       "      <td>2022-10-02</td>\n",
       "    </tr>\n",
       "    <tr>\n",
       "      <th>4</th>\n",
       "      <td>hardware test engineer (automoción)</td>\n",
       "      <td>Tarragona</td>\n",
       "      <td>2022-10-02</td>\n",
       "      <td>['python', 'testing']</td>\n",
       "      <td>no disponible</td>\n",
       "      <td>2</td>\n",
       "      <td>2022-10-02</td>\n",
       "    </tr>\n",
       "  </tbody>\n",
       "</table>\n",
       "</div>"
      ],
      "text/plain": [
       "                                   Jobtitle       City        Date  \\\n",
       "0                 desarrollador/a php-moodl     Madrid  2022-09-30   \n",
       "1          analista programador spark/scala     Madrid  2022-09-30   \n",
       "2                  desarrollador de android     Madrid  2022-10-02   \n",
       "3  administrador/a microsoft azure - remoto     Online  2022-10-02   \n",
       "4       hardware test engineer (automoción)  Tarragona  2022-10-02   \n",
       "\n",
       "                                           Skills         Salary  Candidates  \\\n",
       "0               ['php', 'lms', 'moodle', 'mysql']        31500.0           7   \n",
       "1                              ['scala', 'spark']        31500.0           0   \n",
       "2                                     ['android']  no disponible           2   \n",
       "3  ['hyper v', 'azure', 'itil', 'mcafee', 'o365']        31500.0          22   \n",
       "4                           ['python', 'testing']  no disponible           2   \n",
       "\n",
       "         Copy  \n",
       "0  2022-10-02  \n",
       "1  2022-10-02  \n",
       "2  2022-10-02  \n",
       "3  2022-10-02  \n",
       "4  2022-10-02  "
      ]
     },
     "execution_count": 3,
     "metadata": {},
     "output_type": "execute_result"
    }
   ],
   "source": [
    "df.head() # Por defecto, arroja una muestra de los cinco primeros elementos de la tabla (tail hace lo mismo, con los ultimos)"
   ]
  },
  {
   "cell_type": "markdown",
   "id": "9b21c3b0-305a-4b58-9c15-bcaf8199585e",
   "metadata": {},
   "source": [
    "- De las siete columnas, la información correspondiente a **jobtitle** puede considerarse prescindible, pues dada su variabilidad, la tarea extraer información relevante de los títulos puede no resultar compensatoria. \n",
    "- La columna **date**, es decir, la fecha en que una determinada oferta fue publicada, nos ofrece la situación en el mercado de una determinada tecnología.\n",
    "- La **city** o ciudad indica la localización desde la cual se emite la oferta y se requiere el puesto.\n",
    "- La cantidad de **candidates** representa la oferta de empeados, es decir, la cantidad de personas que aspiran a ese puesto.\n",
    "- Las **skills** son aquellas tecnologías solicitadas por la empresa. \n",
    "- El **salary** es un parámetro importante, sobre todo en el plano personal.\n",
    "- La columna **copy** no ofrece información especialmente relevante, sino que solo indica la fecha en que fue introducido un registro en la base de datos. \n",
    "- La conjunción entre **candidades** y **skills** puede arrojarnos la demanda de alguna tecnología determinada; que si se segmenta con la **date**, puede permitirnos apreciar la situación de una tecnología a lo largo del tiempo, e incluso en función de la **city**. "
   ]
  },
  {
   "cell_type": "markdown",
   "id": "8947a014-5547-4904-b64b-8c53db0c9fe1",
   "metadata": {},
   "source": [
    "### El problema de la columna *\"Salary\"*"
   ]
  },
  {
   "cell_type": "code",
   "execution_count": 4,
   "id": "a30846cf-1ba7-456f-8c26-8f266e34b7aa",
   "metadata": {},
   "outputs": [
    {
     "data": {
      "text/plain": [
       "no disponible        3679\n",
       "31500.0               112\n",
       "34500.0               111\n",
       "33000.0               111\n",
       "39000.0               101\n",
       "                     ... \n",
       "5407.200000000001       1\n",
       "5170.799999999999       1\n",
       "7500.0                  1\n",
       "10800.0                 1\n",
       "68000.0                 1\n",
       "Name: Salary, Length: 83, dtype: int64"
      ]
     },
     "execution_count": 4,
     "metadata": {},
     "output_type": "execute_result"
    }
   ],
   "source": [
    "df['Salary'].value_counts() # Agrupa los valores y los cuenta. "
   ]
  },
  {
   "cell_type": "markdown",
   "id": "fcab04be-e810-4cb2-9a38-fb164a705566",
   "metadata": {},
   "source": [
    "#### Porcentaje de las ofertas que no ofrecen salario"
   ]
  },
  {
   "cell_type": "markdown",
   "id": "5be1aa5b-cdf1-4ab7-a85a-c34599b23bbf",
   "metadata": {},
   "source": [
    "Desgraciadamente, 3679 de 5423 ofertas **no contienen información de salario**. Puede ser interesante averigüar el porcentaje, para ello podemos hacer una función: "
   ]
  },
  {
   "cell_type": "code",
   "execution_count": 5,
   "id": "85ec042c-704b-4b1c-8727-20478d71cf49",
   "metadata": {},
   "outputs": [
    {
     "data": {
      "text/plain": [
       "67.84067859118569"
      ]
     },
     "execution_count": 5,
     "metadata": {},
     "output_type": "execute_result"
    }
   ],
   "source": [
    "\n",
    "def porcentaje_no_salario (df): \n",
    "    ofertas_totales= len(df)\n",
    "    ofertas_no_salario = df['Salary'].value_counts()['no disponible']\n",
    "    return ofertas_no_salario/ofertas_totales*100\n",
    "\n",
    "porcentaje_no_salario(df)\n"
   ]
  },
  {
   "cell_type": "markdown",
   "id": "0dcdb5c0-4645-49db-85b4-366824305328",
   "metadata": {},
   "source": [
    "¡Casi un **70%** de las ofertas no informan del salario!"
   ]
  },
  {
   "cell_type": "markdown",
   "id": "ac83c572-29d2-4d4d-a295-6ba748715240",
   "metadata": {},
   "source": [
    "### El problema de la columna *Copy*"
   ]
  },
  {
   "cell_type": "code",
   "execution_count": 6,
   "id": "4923131b-85e6-44b4-ab55-a88ec977fad3",
   "metadata": {},
   "outputs": [
    {
     "data": {
      "text/plain": [
       "2022-11-27    2690\n",
       "2022-11-13     395\n",
       "2022-11-20     385\n",
       "2022-10-16     369\n",
       "2022-10-23     351\n",
       "2022-10-02     326\n",
       "2022-11-06     326\n",
       "2022-10-30     291\n",
       "2022-10-09     290\n",
       "Name: Copy, dtype: int64"
      ]
     },
     "execution_count": 6,
     "metadata": {},
     "output_type": "execute_result"
    }
   ],
   "source": [
    "df['Copy'].value_counts() # Agrupa los valores y los cuenta: en este caso, cuándo fueron recopilados los datos en la base de datos y su cantidad. "
   ]
  },
  {
   "cell_type": "markdown",
   "id": "ca68325d-897e-4cac-ae77-b159b547e860",
   "metadata": {},
   "source": [
    "Es importante saber que **los anuncios recogidos cada mes no tienen por qué ser nuevos**, por lo que debe considerarse el mes para evitar una mala interpretación de los datos. "
   ]
  },
  {
   "cell_type": "code",
   "execution_count": 7,
   "id": "88e31b57-8d1b-4214-8bd1-8a78ec9052a4",
   "metadata": {},
   "outputs": [
    {
     "data": {
      "text/plain": [
       "it business analys    9\n",
       "devops engi           9\n",
       "frontend develop      9\n",
       "Name: Jobtitle, dtype: int64"
      ]
     },
     "execution_count": 7,
     "metadata": {},
     "output_type": "execute_result"
    }
   ],
   "source": [
    "df['Jobtitle'].value_counts()[df['Jobtitle'].value_counts()==9] # En base a la cantidad agrupada de Jobtitle, comprobar dentro de Jobtitle que registros verifican que value_counts>1"
   ]
  },
  {
   "cell_type": "markdown",
   "id": "44a4f49f-9941-4834-aef8-4dfa3284e35b",
   "metadata": {},
   "source": [
    "El profesor ha hecho un buen trabajo, dado que nos ha facilitado la base de datos libre de repeticiones; por eso, los resultados de esta consulta no se ajustan a los del vídeo."
   ]
  },
  {
   "cell_type": "code",
   "execution_count": 8,
   "id": "7f67b2f3-8787-4f88-8278-7ddc9b232ced",
   "metadata": {},
   "outputs": [
    {
     "data": {
      "text/html": [
       "<div>\n",
       "<style scoped>\n",
       "    .dataframe tbody tr th:only-of-type {\n",
       "        vertical-align: middle;\n",
       "    }\n",
       "\n",
       "    .dataframe tbody tr th {\n",
       "        vertical-align: top;\n",
       "    }\n",
       "\n",
       "    .dataframe thead th {\n",
       "        text-align: right;\n",
       "    }\n",
       "</style>\n",
       "<table border=\"1\" class=\"dataframe\">\n",
       "  <thead>\n",
       "    <tr style=\"text-align: right;\">\n",
       "      <th></th>\n",
       "      <th>Jobtitle</th>\n",
       "      <th>City</th>\n",
       "      <th>Date</th>\n",
       "      <th>Skills</th>\n",
       "      <th>Salary</th>\n",
       "      <th>Candidates</th>\n",
       "      <th>Copy</th>\n",
       "    </tr>\n",
       "  </thead>\n",
       "  <tbody>\n",
       "    <tr>\n",
       "      <th>235</th>\n",
       "      <td>it business analys</td>\n",
       "      <td>Barcelona</td>\n",
       "      <td>2022-09-20</td>\n",
       "      <td>['jira', 'agile']</td>\n",
       "      <td>no disponible</td>\n",
       "      <td>21</td>\n",
       "      <td>2022-10-02</td>\n",
       "    </tr>\n",
       "    <tr>\n",
       "      <th>317</th>\n",
       "      <td>it business analys</td>\n",
       "      <td>Madrid</td>\n",
       "      <td>2022-06-15</td>\n",
       "      <td>['analyst', 'it']</td>\n",
       "      <td>37500.0</td>\n",
       "      <td>19</td>\n",
       "      <td>2022-10-02</td>\n",
       "    </tr>\n",
       "    <tr>\n",
       "      <th>970</th>\n",
       "      <td>it business analys</td>\n",
       "      <td>Murcia</td>\n",
       "      <td>2022-07-20</td>\n",
       "      <td>['analytical software', 'business analyst']</td>\n",
       "      <td>no disponible</td>\n",
       "      <td>20</td>\n",
       "      <td>2022-10-16</td>\n",
       "    </tr>\n",
       "    <tr>\n",
       "      <th>973</th>\n",
       "      <td>it business analys</td>\n",
       "      <td>Madrid</td>\n",
       "      <td>2022-07-19</td>\n",
       "      <td>['software']</td>\n",
       "      <td>52500.0</td>\n",
       "      <td>32</td>\n",
       "      <td>2022-10-16</td>\n",
       "    </tr>\n",
       "    <tr>\n",
       "      <th>2565</th>\n",
       "      <td>it business analys</td>\n",
       "      <td>Madrid</td>\n",
       "      <td>2022-11-06</td>\n",
       "      <td>['business analyst']</td>\n",
       "      <td>no disponible</td>\n",
       "      <td>11</td>\n",
       "      <td>2022-11-20</td>\n",
       "    </tr>\n",
       "    <tr>\n",
       "      <th>2615</th>\n",
       "      <td>it business analys</td>\n",
       "      <td>Valencia</td>\n",
       "      <td>2022-09-30</td>\n",
       "      <td>['testlink', 'spira test', 'scrum', 'hp alm']</td>\n",
       "      <td>no disponible</td>\n",
       "      <td>24</td>\n",
       "      <td>2022-11-20</td>\n",
       "    </tr>\n",
       "    <tr>\n",
       "      <th>4405</th>\n",
       "      <td>it business analys</td>\n",
       "      <td>Madrid</td>\n",
       "      <td>2022-10-01</td>\n",
       "      <td>['itil', 'sap']</td>\n",
       "      <td>no disponible</td>\n",
       "      <td>9</td>\n",
       "      <td>2022-11-27</td>\n",
       "    </tr>\n",
       "    <tr>\n",
       "      <th>5205</th>\n",
       "      <td>it business analys</td>\n",
       "      <td>Madrid</td>\n",
       "      <td>2022-06-29</td>\n",
       "      <td>['sql', 'rest api']</td>\n",
       "      <td>no disponible</td>\n",
       "      <td>11</td>\n",
       "      <td>2022-11-27</td>\n",
       "    </tr>\n",
       "    <tr>\n",
       "      <th>5309</th>\n",
       "      <td>it business analys</td>\n",
       "      <td>Madrid</td>\n",
       "      <td>2022-03-01</td>\n",
       "      <td>['java', 'rest api']</td>\n",
       "      <td>no disponible</td>\n",
       "      <td>10</td>\n",
       "      <td>2022-11-27</td>\n",
       "    </tr>\n",
       "  </tbody>\n",
       "</table>\n",
       "</div>"
      ],
      "text/plain": [
       "                Jobtitle       City        Date  \\\n",
       "235   it business analys  Barcelona  2022-09-20   \n",
       "317   it business analys     Madrid  2022-06-15   \n",
       "970   it business analys     Murcia  2022-07-20   \n",
       "973   it business analys     Madrid  2022-07-19   \n",
       "2565  it business analys     Madrid  2022-11-06   \n",
       "2615  it business analys   Valencia  2022-09-30   \n",
       "4405  it business analys     Madrid  2022-10-01   \n",
       "5205  it business analys     Madrid  2022-06-29   \n",
       "5309  it business analys     Madrid  2022-03-01   \n",
       "\n",
       "                                             Skills         Salary  \\\n",
       "235                               ['jira', 'agile']  no disponible   \n",
       "317                               ['analyst', 'it']        37500.0   \n",
       "970     ['analytical software', 'business analyst']  no disponible   \n",
       "973                                    ['software']        52500.0   \n",
       "2565                           ['business analyst']  no disponible   \n",
       "2615  ['testlink', 'spira test', 'scrum', 'hp alm']  no disponible   \n",
       "4405                                ['itil', 'sap']  no disponible   \n",
       "5205                            ['sql', 'rest api']  no disponible   \n",
       "5309                           ['java', 'rest api']  no disponible   \n",
       "\n",
       "      Candidates        Copy  \n",
       "235           21  2022-10-02  \n",
       "317           19  2022-10-02  \n",
       "970           20  2022-10-16  \n",
       "973           32  2022-10-16  \n",
       "2565          11  2022-11-20  \n",
       "2615          24  2022-11-20  \n",
       "4405           9  2022-11-27  \n",
       "5205          11  2022-11-27  \n",
       "5309          10  2022-11-27  "
      ]
     },
     "execution_count": 8,
     "metadata": {},
     "output_type": "execute_result"
    }
   ],
   "source": [
    "df [df['Jobtitle'] == \"it business analys\"] # Dentro de la columna \"Jobtitle\", comprobar los registros iguales al titulo \"it business analys\" que parecía repetirse"
   ]
  },
  {
   "cell_type": "markdown",
   "id": "9ad83a14-ebc6-438d-b628-5c99b0958715",
   "metadata": {},
   "source": [
    "Esta comprobación verifica que, aunque parece que **hay información repetida**, cada oferta es diferente. Efectivamente ¡la base de datos ya está libre de duplicados! "
   ]
  },
  {
   "cell_type": "markdown",
   "id": "0b920394-4c5d-47f8-aa32-55c17eef053a",
   "metadata": {},
   "source": [
    "### ¿Cómo se eliminarían los duplicados?"
   ]
  },
  {
   "cell_type": "code",
   "execution_count": 9,
   "id": "7c12aa28-cba1-4036-9519-18bab5538e21",
   "metadata": {},
   "outputs": [],
   "source": [
    "df = df.drop_duplicates(['Jobtitle', 'City','Skills'], keep =\"last\"); # Elimina los duplicados en base a mismo titulo, ciudad y skills. Mantiene los ultimos, es decir, los más actualizados."
   ]
  },
  {
   "cell_type": "code",
   "execution_count": 10,
   "id": "d213ab61-f5e9-408e-8fdb-e66633ea3b44",
   "metadata": {},
   "outputs": [
    {
     "name": "stdout",
     "output_type": "stream",
     "text": [
      "5423\n"
     ]
    }
   ],
   "source": [
    "print (len(df)); # Imprime las filas de la tabla,"
   ]
  },
  {
   "cell_type": "code",
   "execution_count": 11,
   "id": "085494c6-1848-4822-9615-5d9e27a78912",
   "metadata": {},
   "outputs": [
    {
     "data": {
      "text/plain": [
       "2022-11-27    2690\n",
       "2022-11-13     395\n",
       "2022-11-20     385\n",
       "2022-10-16     369\n",
       "2022-10-23     351\n",
       "2022-10-02     326\n",
       "2022-11-06     326\n",
       "2022-10-30     291\n",
       "2022-10-09     290\n",
       "Name: Copy, dtype: int64"
      ]
     },
     "execution_count": 11,
     "metadata": {},
     "output_type": "execute_result"
    }
   ],
   "source": [
    "df.Copy.value_counts() # Mostrar los registros en función de las fechas de Copy."
   ]
  },
  {
   "cell_type": "markdown",
   "id": "e58dcd8b-31e4-44a1-9192-326ec4c817b4",
   "metadata": {},
   "source": [
    "En definitiva, esta es la base de datos con la que vamos a trabajar."
   ]
  },
  {
   "cell_type": "markdown",
   "id": "160d4490-8ea1-4247-b65a-397487af23a1",
   "metadata": {},
   "source": [
    "## Tarea 1"
   ]
  },
  {
   "cell_type": "markdown",
   "id": "10828e30-481a-4fdd-a677-c91ad30c0ba5",
   "metadata": {},
   "source": [
    "### Solución del alumno a la Tarea 1.1 : Crea un gráfico tipo barplot que muestre los 10 lugares con más ofertas de trabajo.\n",
    "#### Extracción de las listas necesarias:"
   ]
  },
  {
   "cell_type": "code",
   "execution_count": 12,
   "id": "783cbadd-c33d-4268-b751-e63fef4b5a4b",
   "metadata": {},
   "outputs": [
    {
     "data": {
      "text/plain": [
       "Madrid       37.304075\n",
       "Online       21.390374\n",
       "Barcelona    17.591739\n",
       "Valencia      4.923474\n",
       "Bizkaia       2.434077\n",
       "Málaga        2.397197\n",
       "Zaragoza      1.567398\n",
       "Sevilla       1.493638\n",
       "Murcia        0.977319\n",
       "Alicante      0.940439\n",
       "Name: City, dtype: float64"
      ]
     },
     "execution_count": 12,
     "metadata": {},
     "output_type": "execute_result"
    }
   ],
   "source": [
    "# Extracción de los recursos necesarios\n",
    "\n",
    "# Extraer lista de los 10 lugares con más ofertas de trabajo \n",
    "ciudades_top_10_ofertas = pd.Series.tolist ( df['City'].value_counts()[0:10].index )\n",
    "\n",
    "# Para la misma consulta, extraer el numero de ofertas para cada ciudad. \n",
    "no_ofertas_top_10_ciudad = pd.Series.tolist ( df['City'].value_counts(normalize=True)[0:10] *100) # Lo normaliza, es decir, hace el porcentaje respecto al total\n",
    "\n",
    "# Ejemplo: \n",
    "df['City'].value_counts(normalize=True)[0:10] * 100\n"
   ]
  },
  {
   "cell_type": "markdown",
   "id": "53e1d578-e621-485c-93d8-3972626b36a2",
   "metadata": {},
   "source": [
    "#### Gráfico:"
   ]
  },
  {
   "cell_type": "code",
   "execution_count": 13,
   "id": "243f2df6-a12f-49d0-bd58-bc3b1f653d6f",
   "metadata": {},
   "outputs": [
    {
     "data": {
      "image/png": "[encoded data removed]",
      "text/plain": [
       "<Figure size 640x480 with 1 Axes>"
      ]
     },
     "metadata": {},
     "output_type": "display_data"
    }
   ],
   "source": [
    "# Configurar el gráfico\n",
    "\n",
    "# Datos \n",
    "sns.barplot(x=ciudades_top_10_ofertas, y=no_ofertas_top_10_ciudad)\n",
    "\n",
    "# Estilo\n",
    "plt.xticks(rotation=40, ha='center', fontsize=9) # Los nombres del eje X tendrán una rotación de 40º y un tamaño de 9, para que quepan. \n",
    "sns.set(style=\"darkgrid\"); # Darkgrid es un estilo que me gusta\n",
    "\n",
    "# Títulos\n",
    "plt.title('10 lugares con más ofertas de trabajo')\n",
    "plt.ylabel('Número de ofertas')\n",
    "plt.xlabel('Ciudades')\n",
    "\n",
    "# Muestreo\n",
    "plt.show()"
   ]
  },
  {
   "cell_type": "markdown",
   "id": "c8beb6b6-6263-4da2-8715-8855b8e8d894",
   "metadata": {},
   "source": [
    "#### Cuestionario tarea 1.1\n"
   ]
  },
  {
   "cell_type": "code",
   "execution_count": 14,
   "id": "849ae6f2-7e47-4427-9e82-ea31bf241a3d",
   "metadata": {},
   "outputs": [
    {
     "data": {
      "text/plain": [
       "0.3730407523510972"
      ]
     },
     "execution_count": 14,
     "metadata": {},
     "output_type": "execute_result"
    }
   ],
   "source": [
    "# Porcentaje de ofertas en Madrid\n",
    "df['City'].value_counts()['Madrid']/df['City'].value_counts().sum()"
   ]
  },
  {
   "cell_type": "code",
   "execution_count": 15,
   "id": "a113aaeb-1339-4eea-8a08-3454f5248ad8",
   "metadata": {},
   "outputs": [
    {
     "data": {
      "text/plain": [
       "'Alicante'"
      ]
     },
     "execution_count": 15,
     "metadata": {},
     "output_type": "execute_result"
    }
   ],
   "source": [
    "# Qué ciudad está en décimo lugar\n",
    "df['City'].value_counts().index[9]"
   ]
  },
  {
   "cell_type": "markdown",
   "id": "b80d87f2-3b86-4b5d-87e0-f29b43581a31",
   "metadata": {},
   "source": [
    "### Solución del alumno a la Tarea 1.2 : Crea una tabla que contiene para cada ciudad el número de anuncios y la media de candidatos inscritos en los anuncios de estas ciudad."
   ]
  },
  {
   "cell_type": "code",
   "execution_count": 16,
   "id": "25e24a08-4193-4f87-b3e7-fc1dc1259078",
   "metadata": {},
   "outputs": [],
   "source": [
    "# Creación de las dos series y conversión a lista\n",
    "## Deben estar organizadas alfabeticamente en funcion de indice, para que todos los resultados coincidan \n",
    "\n",
    "lista_ciudad = pd.Series.tolist (df.groupby('City')['Candidates'].mean().sort_index().index)\n",
    "lista_media_candidatos = pd.Series.tolist (df.groupby('City')['Candidates'].mean().sort_index())\n",
    "lista_suma_ofertas = pd.Series.tolist (df['City'].value_counts().sort_index())\n",
    "\n",
    "# Creación de diccioanrio \n",
    "## Una dataframe sigue una estructura parecida a los diccionarios de python. \n",
    "\n",
    "diccionarioCiudades = {\n",
    "    \"city\" : lista_ciudad,\n",
    "    \"count\" : lista_suma_ofertas,\n",
    "    \"candidates_average\" :  lista_media_candidatos\n",
    "}\n",
    "\n",
    "# Conversión del diccionario en un dataframe\n",
    "\n",
    "dataframeCiudades = pd.DataFrame(diccionarioCiudades)\n",
    "\n",
    "# Asignar el índice en \"city\"\n",
    "\n",
    "dataframeCiudades = dataframeCiudades.set_index('city')\n"
   ]
  },
  {
   "cell_type": "markdown",
   "id": "766627f5-4744-4ba2-93f4-876f53b47874",
   "metadata": {},
   "source": [
    "Con este dataframe, ya podemos obtener las 10 ciudades con menos candidatos."
   ]
  },
  {
   "cell_type": "code",
   "execution_count": 17,
   "id": "efc0f231-f0d8-4f37-859d-36417c4358d7",
   "metadata": {},
   "outputs": [
    {
     "data": {
      "text/html": [
       "<div>\n",
       "<style scoped>\n",
       "    .dataframe tbody tr th:only-of-type {\n",
       "        vertical-align: middle;\n",
       "    }\n",
       "\n",
       "    .dataframe tbody tr th {\n",
       "        vertical-align: top;\n",
       "    }\n",
       "\n",
       "    .dataframe thead th {\n",
       "        text-align: right;\n",
       "    }\n",
       "</style>\n",
       "<table border=\"1\" class=\"dataframe\">\n",
       "  <thead>\n",
       "    <tr style=\"text-align: right;\">\n",
       "      <th></th>\n",
       "      <th>count</th>\n",
       "      <th>candidates_average</th>\n",
       "    </tr>\n",
       "    <tr>\n",
       "      <th>city</th>\n",
       "      <th></th>\n",
       "      <th></th>\n",
       "    </tr>\n",
       "  </thead>\n",
       "  <tbody>\n",
       "    <tr>\n",
       "      <th>Madrid</th>\n",
       "      <td>2023</td>\n",
       "      <td>17.630252</td>\n",
       "    </tr>\n",
       "    <tr>\n",
       "      <th>Online</th>\n",
       "      <td>1160</td>\n",
       "      <td>44.007759</td>\n",
       "    </tr>\n",
       "    <tr>\n",
       "      <th>Barcelona</th>\n",
       "      <td>954</td>\n",
       "      <td>22.057652</td>\n",
       "    </tr>\n",
       "    <tr>\n",
       "      <th>Valencia</th>\n",
       "      <td>267</td>\n",
       "      <td>32.265918</td>\n",
       "    </tr>\n",
       "    <tr>\n",
       "      <th>Bizkaia</th>\n",
       "      <td>132</td>\n",
       "      <td>10.143939</td>\n",
       "    </tr>\n",
       "    <tr>\n",
       "      <th>Málaga</th>\n",
       "      <td>130</td>\n",
       "      <td>13.915385</td>\n",
       "    </tr>\n",
       "    <tr>\n",
       "      <th>Zaragoza</th>\n",
       "      <td>85</td>\n",
       "      <td>8.976471</td>\n",
       "    </tr>\n",
       "    <tr>\n",
       "      <th>Sevilla</th>\n",
       "      <td>81</td>\n",
       "      <td>20.580247</td>\n",
       "    </tr>\n",
       "    <tr>\n",
       "      <th>Murcia</th>\n",
       "      <td>53</td>\n",
       "      <td>53.245283</td>\n",
       "    </tr>\n",
       "    <tr>\n",
       "      <th>Alicante</th>\n",
       "      <td>51</td>\n",
       "      <td>22.333333</td>\n",
       "    </tr>\n",
       "  </tbody>\n",
       "</table>\n",
       "</div>"
      ],
      "text/plain": [
       "           count  candidates_average\n",
       "city                                \n",
       "Madrid      2023           17.630252\n",
       "Online      1160           44.007759\n",
       "Barcelona    954           22.057652\n",
       "Valencia     267           32.265918\n",
       "Bizkaia      132           10.143939\n",
       "Málaga       130           13.915385\n",
       "Zaragoza      85            8.976471\n",
       "Sevilla       81           20.580247\n",
       "Murcia        53           53.245283\n",
       "Alicante      51           22.333333"
      ]
     },
     "execution_count": 17,
     "metadata": {},
     "output_type": "execute_result"
    }
   ],
   "source": [
    "dataframeCiudades.sort_values(by='count',ascending=False)[:10]"
   ]
  },
  {
   "cell_type": "markdown",
   "id": "41053d33-6386-4511-8660-e9bcf563f732",
   "metadata": {},
   "source": [
    "#### Cuestionario de la tarea 1.2 \n"
   ]
  },
  {
   "cell_type": "markdown",
   "id": "87671b6e-5744-492c-8345-b990b3b0e283",
   "metadata": {},
   "source": [
    "##### ¿Cuál es la ciudad entre los 10 ciudades con más anuncios con la media de candidatos más baja?\n",
    "**Zaragoza** es donde se ubican los anuncios más atractivos, si consideramos que *atractivo* significa mucha demanda por parte de las empresas y pocos candidatos. \n",
    "\n",
    "Para hallar esta solución, he empleado una función llamada **ubicacionAnunciosAtractivos** que retorna una lista, a la que le facilitamos dos parámetros: un objeto *dataframe* y un valor entero de precisión - que no resulta muy útil, debido al poco volumen de ciudades -.\n",
    "\n",
    "##### **¿Qué hace la función?** \n",
    "\n",
    "Extrae dos listas de la base de datos, en base a dos consultas, que se proponen encontrar: \n",
    "- *\"lista_ciudades_mas_ofertas\"* : almacena las ciudades con más ofertas, en un rango determinado por el parámetro de precisión.\n",
    "- *\"lista_ciudades_menos_candidatos\"* : almacena las ciudades con menos candidatos, en un rango determinado por el parámetro de precisión.\n",
    "\n",
    "Finalmente, compara ambas listas y arroja los resultados coincidentes en forma de lista: todos reunirán las caracteristicas solicitadas. \n",
    "\n",
    "##### **Funcionamiento de las consultas**\n",
    "\n",
    "Para la *lista_ciudades_mas_ofertas*:\n",
    "```\n",
    "df['City'].value_counts()[:rango].index\n",
    "```\n",
    "Lista las ciudades (índices) ordenadas por número de registros - equivalentes a la cantidad de ofertas de trabajo -, en un rango de 0 a n. \n",
    "\n",
    "Para la *lista_ciudades_menos_candidatos*\n",
    "\n",
    "```\n",
    "df.groupby('City')['Candidates'].mean().sort_values()[:rango].index\n",
    "```\n",
    "Ciudades agrupadas en base a la media de candidatos totales para cada ciudad: ordenados de mayor a menor, extrayendo las ciudades en un rango del 0 a n\n",
    "\n",
    "Las series previas han pasado por el método *Series.tolist* incorporado en el paquete de pandas.\n",
    "\n",
    "##### **¿Cómo funciona el parámetro de precisión?**\n",
    "\n",
    "Simplemente, es el divisor de la cantidad total de ciudades (*nunique()*) que se asignan al rango. No es muy útil, pero me ha parecido reseñable emplearla, sobre todo en los casos en los que haya muchas más ciudades. \n",
    "\n",
    "##### **Demostración**"
   ]
  },
  {
   "cell_type": "code",
   "execution_count": 18,
   "id": "60c2b41e-8586-480d-ae51-6bf27d99d305",
   "metadata": {},
   "outputs": [
    {
     "data": {
      "text/plain": [
       "['Zaragoza']"
      ]
     },
     "execution_count": 18,
     "metadata": {},
     "output_type": "execute_result"
    }
   ],
   "source": [
    "def ubicacionAnunciosAtractivos (df, precision): \n",
    "\n",
    "    salida = [];\n",
    "    \n",
    "    # Ajustes iniciales\n",
    "    \n",
    "    ## Hallar la cantidad total de ciudades. \n",
    "    noCiudadesTotales= df['City'].nunique(); \n",
    "    ## Establecer el rango en base a la precisión \n",
    "    rango = noCiudadesTotales//precision;\n",
    "\n",
    "    # Listas \n",
    "\n",
    "    lista_ciudades_mas_ofertas = pd.Series.tolist (df['City'].value_counts()[:rango].index);\n",
    "    lista_ciudades_menos_candidatos = pd.Series.tolist (df.groupby('City')['Candidates'].mean().sort_values()[:rango].index); \n",
    "\n",
    "    # Bucle que comprueba la correspondencia de elementos en ambas listas y que, de darse, es introducida en la salida.\n",
    "    \n",
    "    for i in lista_ciudades_mas_ofertas:\n",
    "        for j in lista_ciudades_menos_candidatos: \n",
    "            if i==j: \n",
    "                salida.append(i);\n",
    "\n",
    "    return salida; \n",
    "\n",
    "resultado = ubicacionAnunciosAtractivos(df,4);\n",
    "\n",
    "resultado"
   ]
  },
  {
   "cell_type": "markdown",
   "id": "86da0802-e0a0-4e15-915e-67db9e8949e1",
   "metadata": {},
   "source": [
    "### Solución del alumno a la Tarea 1.3 : Crear un scatterplot para los 10 lugares con más ofertas, con la media de candidatos en el eje x, y el número de anuncios en el eje y. Divide la tabla en 4 sectores, dibujando una línea en el valor medio de las ofertas, y la media de las medias de los candidatos."
   ]
  },
  {
   "cell_type": "code",
   "execution_count": 19,
   "id": "974475f7-0c7b-404c-9ed7-fa1752e96a5a",
   "metadata": {},
   "outputs": [
    {
     "data": {
      "text/plain": [
       "Text(0.5, 0, 'Número de candidados')"
      ]
     },
     "execution_count": 19,
     "metadata": {},
     "output_type": "execute_result"
    },
    {
     "data": {
      "image/png": "[encoded data removed]",
      "text/plain": [
       "<Figure size 640x480 with 1 Axes>"
      ]
     },
     "metadata": {},
     "output_type": "display_data"
    }
   ],
   "source": [
    "# La siguiente función dibuja graficos con nombres a partir de listas. \n",
    "def graficoConNombres (datos_ejex,datos_ejey,datos_nombres,tamagno):\n",
    "\n",
    "    # La función recibirá series que deberán ser convertidas en listas \n",
    "    ejex = pd.Series.tolist (datos_ejex)\n",
    "    ejey = pd.Series.tolist (datos_ejey)\n",
    "    nombres = pd.Series.tolist(datos_nombres)\n",
    "    \n",
    "    # Disposición de los puntos\n",
    "    (fig, ax) = plt.subplots() # Creación de figura y posicion: Esta tupla se asocia a un subtrazo, en este caso, el de una figura concreta (fig) y su localizacion (axes)\n",
    "    ax.scatter(ejey, ejex) # En los puntos definidos a partir de los calculos que la funcion scatter usa al tomar las listas del ejex y ejey, se fijan los axes, es decir, las posiciones de las figuras\n",
    "\n",
    "    # Asignación de los nombres\n",
    "    for i, txt in enumerate(nombres): # Este bucle asigna i(indice) u txt(valor) a de uno de los valores de \"nombres gracias\" a enumerate. Esos valores sirven para rellenar la funcion de annotate que introducirá los nombres. \n",
    "        ax.annotate(txt, (ejey[i],ejex[i]),fontsize=tamagno) # Anota txt (es decir, el campo determinado de nombres) en el \n",
    "\n",
    "    # Dibujar las líneas divisorias -> en base a los calculos de los datos. \n",
    "\n",
    "    plt.axvline(x=datos_ejey.mean(), color='red', linestyle='--') # Linea vertical \n",
    "    plt.axhline(y=datos_ejex.mean(), color='red', linestyle='--') # Linea horizontal \n",
    "\n",
    "    \n",
    "\n",
    "x = dataframeCiudades['count'].sort_values(ascending=False)[:10]\n",
    "y = dataframeCiudades.sort_values(by='count',ascending=False)[:10]['candidates_average']\n",
    "nombre_ciudades =  dataframeCiudades['count'].sort_values(ascending=False).index[:10]\n",
    "\n",
    "graficoConNombres (x,y,nombre_ciudades,8)\n",
    "plt.title('Ofertas de trabajo por ciudades')\n",
    "plt.ylabel('Número de ofertas')\n",
    "plt.xlabel('Número de candidados')\n",
    "\n",
    "\n"
   ]
  },
  {
   "cell_type": "markdown",
   "id": "59eaae34-3f68-4234-9e15-dd65ab512a8a",
   "metadata": {},
   "source": [
    "## Tarea 2"
   ]
  },
  {
   "cell_type": "markdown",
   "id": "7508b44b-9075-4354-9e9a-17d5c73440ce",
   "metadata": {},
   "source": [
    "### Solución del alumno a la Tarea 2.1 : Crea un gráfico tipo barplot que muestre las 15 tecnologías con más ofertas de trabajo."
   ]
  },
  {
   "cell_type": "code",
   "execution_count": 23,
   "id": "43d8bcf7-c5bc-4587-8b64-2f7b25d7d437",
   "metadata": {
    "scrolled": true
   },
   "outputs": [
    {
     "data": {
      "text/plain": [
       "<Axes: ylabel='tecnologia'>"
      ]
     },
     "execution_count": 23,
     "metadata": {},
     "output_type": "execute_result"
    },
    {
     "data": {
      "image/png": "[encoded data removed]",
      "text/plain": [
       "<Figure size 640x480 with 1 Axes>"
      ]
     },
     "metadata": {},
     "output_type": "display_data"
    }
   ],
   "source": [
    "lista_skills_malformada = pd.Series.tolist(df['Skills']) \n",
    "\n",
    "# La lista de skills malformada necesita rehacerse \n",
    "\n",
    "## Depositaremos la información en la lista_skills\n",
    "lista_skills = []; \n",
    "\n",
    "## La cadena auxiliar guardará las cadenas temporales que se formen\n",
    "cadena_auxiliar =\"\"; \n",
    "\n",
    "## La lista auxiliar, las listas que se formen tras pasar cada registro \n",
    "lista_auxiliar = []; \n",
    "\n",
    "## Por cada registro, evaluar el caracter: si es una letra, meter el la cadena. Si es una coma o un final de corchete, se considerará una nueva palabra. \n",
    "escribir = False; \n",
    "for registro in lista_skills_malformada:\n",
    "    for caracter in registro: \n",
    "        if caracter==\"'\" and escribir==False:\n",
    "            escribir=True         \n",
    "        elif caracter==\"'\" and escribir==True:\n",
    "            escribir=False\n",
    "            lista_auxiliar.append(cadena_auxiliar)   \n",
    "            cadena_auxiliar=\"\"; \n",
    "        if escribir==True and caracter !=\"'\":\n",
    "            cadena_auxiliar = cadena_auxiliar+caracter; \n",
    "    lista_skills.append(lista_auxiliar)\n",
    "    lista_auxiliar = []\n",
    "\n",
    "            \n",
    "# Clasificar la lista y convertirla en un diccionario no-basededatos\n",
    "\n",
    "diccionario_skill = {}; \n",
    "skills_registradas = [];\n",
    "\n",
    "for registro in lista_skills:\n",
    "    for skill in registro:\n",
    "        if skill in skills_registradas: \n",
    "            diccionario_skill[skill]+=1;\n",
    "        else: \n",
    "            diccionario_skill.update({skill:1})\n",
    "            skills_registradas.append(skill)\n",
    "\"\"\"\n",
    "#  Ahora igualamos la columa \"Skills\" con nuestra lista hacerlo directamente en la base de datos, para ello tenemos la \"lista_skills\"\n",
    "df['Skills'] = lista_skills\n",
    "df['Skills']\n",
    "\"\"\"\n",
    "# Una vez disponibles los numeros inmediatamente, el diccionario no-basededatos y convertirlo en un diccionario apto para convertir en dataframe\n",
    "\n",
    "## Estructura: \n",
    "diccionario_basededatos_skill = { \n",
    "    \"tecnologia\":[],\n",
    "    \"solicitudes\":[]\n",
    "}\n",
    "\n",
    "## Escritura\n",
    "\n",
    "for registro in diccionario_skill.keys():\n",
    "    diccionario_basededatos_skill[\"tecnologia\"].append(registro);\n",
    "    \n",
    "for registro in diccionario_skill.values():\n",
    "    diccionario_basededatos_skill[\"solicitudes\"].append(registro);\n",
    "\n",
    "## Conversión \n",
    "\n",
    "skills_df = pd.DataFrame(diccionario_basededatos_skill)\n",
    "\n",
    "skills_df = skills_df.set_index('tecnologia')\n",
    "\n",
    "# Procesamiento del gráfico\n",
    "        \n",
    "skills_df.sort_values(by='solicitudes', ascending=False)[:20].plot.barh()"
   ]
  },
  {
   "cell_type": "code",
   "execution_count": 24,
   "id": "ca974f23-cf3f-4902-8db6-4ff74d395bc2",
   "metadata": {},
   "outputs": [
    {
     "data": {
      "text/plain": [
       "0                               [php, lms, moodle, mysql]\n",
       "1                                          [scala, spark]\n",
       "2                                               [android]\n",
       "3                    [hyper v, azure, itil, mcafee, o365]\n",
       "4                                       [python, testing]\n",
       "                              ...                        \n",
       "5418                                       [python, .net]\n",
       "5419                               [rpgle, cobol, as/400]\n",
       "5420             [ssis, ssrs, sql server, power bi, ssas]\n",
       "5421    [aws, kubernetes, cd, ci, git, docker, java, o...\n",
       "5422                            [tia portal, step 7, plc]\n",
       "Name: Skills, Length: 5423, dtype: object"
      ]
     },
     "execution_count": 24,
     "metadata": {},
     "output_type": "execute_result"
    }
   ],
   "source": [
    "# Al margen de lo realizado hasta ahora, corregiremos el defecto de la base de datos igualando la lista previamente creada\n",
    "df['Skills'] = lista_skills\n",
    "df['Skills']"
   ]
  },
  {
   "cell_type": "code",
   "execution_count": 28,
   "id": "e9265356-f47a-4d97-9b1e-73e640c26db5",
   "metadata": {},
   "outputs": [
    {
     "data": {
      "text/plain": [
       "<Axes: >"
      ]
     },
     "execution_count": 28,
     "metadata": {},
     "output_type": "execute_result"
    },
    {
     "data": {
      "image/png": "[encoded data removed]",
      "text/plain": [
       "<Figure size 640x480 with 1 Axes>"
      ]
     },
     "metadata": {},
     "output_type": "display_data"
    }
   ],
   "source": [
    "# Podemos recorrer directamente las sublistas de skills sin necesidad de realizar la compleja conversión hecha anteriormente,\n",
    "# creando simplemente una lista plana a la que se le introducen los valores de un bucle for que explora de manera directa df ['Skills']\n",
    "lista_plana = []\n",
    "\n",
    "for sublista in df['Skills']: \n",
    "    for skill in sublista:\n",
    "        lista_plana.append(skill)\n",
    "pd.Series(lista_plana).value_counts()[:20].plot.barh()\n",
    "        "
   ]
  },
  {
   "cell_type": "code",
   "execution_count": null,
   "id": "5e086e78-bd6a-477b-aea0-def445cbd1da",
   "metadata": {},
   "outputs": [],
   "source": []
  },
  {
   "cell_type": "code",
   "execution_count": null,
   "id": "4af969bb-1e83-454e-aa89-b2d55f480575",
   "metadata": {},
   "outputs": [],
   "source": []
  },
  {
   "cell_type": "code",
   "execution_count": null,
   "id": "476dca05-b889-4126-a945-e85c8bb4cfe3",
   "metadata": {},
   "outputs": [],
   "source": []
  },
  {
   "cell_type": "code",
   "execution_count": null,
   "id": "2113e8da-b3e4-4338-ac7d-55d60c3fc5a5",
   "metadata": {},
   "outputs": [],
   "source": []
  },
  {
   "cell_type": "code",
   "execution_count": null,
   "id": "ca9446fa-d145-47a6-b8c0-a9eabde76be9",
   "metadata": {},
   "outputs": [],
   "source": []
  },
  {
   "cell_type": "code",
   "execution_count": null,
   "id": "50ce205e-19df-4e55-9f2c-41af200af82b",
   "metadata": {},
   "outputs": [],
   "source": []
  },
  {
   "cell_type": "code",
   "execution_count": null,
   "id": "7ae02638-d34a-46cf-9231-1ef90ed5dceb",
   "metadata": {},
   "outputs": [],
   "source": []
  },
  {
   "cell_type": "code",
   "execution_count": null,
   "id": "d84ede73-d0b9-4684-96ec-370a122752de",
   "metadata": {},
   "outputs": [],
   "source": []
  },
  {
   "cell_type": "code",
   "execution_count": null,
   "id": "e57d20d5-4152-40df-be25-c59b178ccd7b",
   "metadata": {},
   "outputs": [],
   "source": []
  },
  {
   "cell_type": "code",
   "execution_count": null,
   "id": "ab4fb143-4127-4c3b-ae91-ce0fc356f123",
   "metadata": {},
   "outputs": [],
   "source": []
  },
  {
   "cell_type": "code",
   "execution_count": null,
   "id": "d6e0d449-a423-4790-a4f2-4a73cc7e9d77",
   "metadata": {},
   "outputs": [],
   "source": []
  },
  {
   "cell_type": "code",
   "execution_count": null,
   "id": "e1ca6148-b007-4ff9-8537-00243b987dcc",
   "metadata": {},
   "outputs": [],
   "source": []
  },
  {
   "cell_type": "markdown",
   "id": "08106c3d-b65c-4596-b136-808e035e2673",
   "metadata": {},
   "source": [
    "# ----------  BORRAR ANTES DE ENTREGAR -------------"
   ]
  },
  {
   "cell_type": "code",
   "execution_count": null,
   "id": "a05254a6-94d0-4d02-bd9a-243967fdbbb3",
   "metadata": {
    "scrolled": true
   },
   "outputs": [],
   "source": [
    "# Datos\n",
    "altura = [150, 170, 100, 160]\n",
    "estudiantes = [\"Javier\", \"Carlos\", \"Hugo\", \"Samanta\"]\n",
    "posiciones = range (len(estudiantes));\n",
    "# Orden respecto a altura (eje y)\n",
    "plt.bar(posiciones, altura)\n",
    "# Orden respecto a nombre (eje x) \n",
    "plt.xticks (posiciones,estudiantes)\n",
    "# Titulo y etiquetas x e y \n",
    "plt.title ('Los estudiantes más flipaos')\n",
    "plt.ylabel('Altura de los estudiantes');\n",
    "plt.xlabel ('Estudiantes');\n",
    "# Visualizar \n",
    "plt.show()\n"
   ]
  },
  {
   "cell_type": "code",
   "execution_count": null,
   "id": "c475ae6d-a6c6-4b38-a09e-57105be17f5e",
   "metadata": {},
   "outputs": [],
   "source": [
    "sns.set(style=\"whitegrid\")\n",
    "\n",
    "# Crear el gráfico de barras\n",
    "sns.barplot(x=estudiantes, y=altura)\n",
    "\n",
    "# Título y etiquetas de los ejes\n",
    "plt.title('Los estudiantes más flipaos')\n",
    "plt.ylabel('Altura de los estudiantes')\n",
    "plt.xlabel('Estudiantes')\n",
    "\n",
    "# Visualizar el gráfico\n",
    "plt.show()"
   ]
  },
  {
   "cell_type": "code",
   "execution_count": null,
   "id": "ab8a0df5-49e9-4d23-8427-38b990a05c54",
   "metadata": {},
   "outputs": [],
   "source": [
    "dataframeCiudades['count'].sort_values(ascending=False)[:10].mean()"
   ]
  },
  {
   "cell_type": "code",
   "execution_count": null,
   "id": "f6b7c7f7-c7ec-40d5-a2a1-a3185e581b07",
   "metadata": {},
   "outputs": [],
   "source": []
  },
  {
   "cell_type": "code",
   "execution_count": null,
   "id": "118e5e62-2b10-4060-83ca-40356b52353a",
   "metadata": {},
   "outputs": [],
   "source": []
  }
 ],
 "metadata": {
  "kernelspec": {
   "display_name": "Python 3 (ipykernel)",
   "language": "python",
   "name": "python3"
  },
  "language_info": {
   "codemirror_mode": {
    "name": "ipython",
    "version": 3
   },
   "file_extension": ".py",
   "mimetype": "text/x-python",
   "name": "python",
   "nbconvert_exporter": "python",
   "pygments_lexer": "ipython3",
   "version": "3.12.0"
  }
 },
 "nbformat": 4,
 "nbformat_minor": 5
}
